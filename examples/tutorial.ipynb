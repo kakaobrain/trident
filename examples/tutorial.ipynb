{
 "cells": [
  {
   "cell_type": "markdown",
   "id": "3d8f602b-22bc-4edd-8511-5edf992cdee3",
   "metadata": {},
   "source": [
    "# Tutorial\n",
    "\n",
    "Let's take a look at how to use Trident."
   ]
  },
  {
   "cell_type": "markdown",
   "id": "d164e570-1ada-4e8c-ac79-dd33362dd4e3",
   "metadata": {},
   "source": [
    "## Setup\n",
    "\n",
    "To use Trident, you need to install it yourself, because it's not yet registered with PyPI. It will also install the latest Triton. Trident can be installed with the following commands.\n"
   ]
  },
  {
   "cell_type": "code",
   "execution_count": null,
   "id": "4d6d0b69-b9b7-417f-8a58-1277c75238fa",
   "metadata": {},
   "outputs": [],
   "source": [
    "!git clone https://github.com/kakaobrain/trident && pushd trident && bash install_package.sh"
   ]
  },
  {
   "cell_type": "markdown",
   "id": "db2fbeb2-40f3-491e-a0e6-9c0633b38c46",
   "metadata": {},
   "source": [
    "If you need to update Trident, you can do so with the following commands."
   ]
  },
  {
   "cell_type": "code",
   "execution_count": null,
   "id": "91a010b9-56dd-4444-b0e2-7e25d9ec1dcb",
   "metadata": {},
   "outputs": [],
   "source": [
    "!pushd trident && git pull && bash install_package.sh"
   ]
  },
  {
   "cell_type": "markdown",
   "id": "fce5fb5c-3b22-4597-9371-ccc32654f986",
   "metadata": {},
   "source": [
    "## Usage\n",
    "\n",
    "If you are familiar with Pytorch, using Trident will be a piece of cake, as Trident provides the same level of abstraction as PyTorch. The following code is taken from examples of PyTorch."
   ]
  },
  {
   "cell_type": "code",
   "execution_count": null,
   "id": "5bebc8d9-b93e-42e0-9013-3eabf850d58e",
   "metadata": {},
   "outputs": [],
   "source": [
    "import time\n",
    "import torch\n",
    "import torch.nn as nn\n",
    "import torch.nn.functional as F\n",
    "\n",
    "\n",
    "class Net(nn.Module):\n",
    "    def __init__(self):\n",
    "        super().__init__()\n",
    "        self.rnn = nn.LSTM(input_size=28, hidden_size=64, batch_first=True)\n",
    "        self.norm = nn.InstanceNorm1d(64)\n",
    "        self.dropout1 = nn.Dropout(0.25)\n",
    "        self.dropout2 = nn.Dropout(0.5)\n",
    "        self.fc1 = nn.Linear(64, 32)\n",
    "        self.fc2 = nn.Linear(32, 10)\n",
    "\n",
    "    def forward(self, input):\n",
    "        # Shape of input is (batch_size,1, 28, 28)\n",
    "        # converting shape of input to (batch_size, 28, 28)\n",
    "        # as required by RNN when batch_first is set True\n",
    "        input = input.reshape(-1, 28, 28)\n",
    "        output, hidden = self.rnn(input)\n",
    "\n",
    "        # RNN output shape is (seq_len, batch, input_size)\n",
    "        # Get last output of RNN\n",
    "        output = output[:, -1, :]\n",
    "        output = self.norm(output)\n",
    "        output = self.dropout1(output)\n",
    "        output = self.fc1(output)\n",
    "        output = F.relu(output)\n",
    "        output = self.dropout2(output)\n",
    "        output = self.fc2(output)\n",
    "        output = F.softmax(output, dim=1)\n",
    "        return output\n",
    "\n",
    "\n",
    "model = Net().to(\"cuda\")\n",
    "input = torch.randn(2000, 1, 28, 28).to(\"cuda\")\n",
    "\n",
    "print(model(input))"
   ]
  },
  {
   "cell_type": "markdown",
   "id": "91ec310e-16d2-44f9-bb1b-212ba9621660",
   "metadata": {},
   "source": [
    "The first step is importing Trident."
   ]
  },
  {
   "cell_type": "code",
   "execution_count": 108,
   "id": "deae982a-dece-46d4-9d1f-65fb8d65422a",
   "metadata": {},
   "outputs": [],
   "source": [
    "import trident"
   ]
  },
  {
   "cell_type": "markdown",
   "id": "83c011e9-540a-4def-8dea-abe4c5b81973",
   "metadata": {},
   "source": [
    "The second step is to make sure Trident provides operations you want to use. Also you need to check the performance of operations. You can check the performance on [Trident's Wiki](https://github.com/kakaobrain/trident/wiki/Performance)."
   ]
  },
  {
   "cell_type": "markdown",
   "id": "d9e52e41-6531-4571-a2c8-41d2dc6fc3b4",
   "metadata": {},
   "source": [
    "The third step is changing code in a model. All you need to do is changing the module's path. Because Trident provides the same level of abstraction as PyTorch.\n",
    "\n",
    "- Change from `torch.nn` to `trident`\n",
    "- Change from `torch.nn.functional` to `trident.function`\n",
    "\n",
    "For example `torch.nn.InstanceNorm1d` can be changed to `trident.InstanceNorm1d`. Let's change `InstanceNorm1d`, `Dropout`, `relu`, `softmax` from PyTorch to Trident in `Net`."
   ]
  },
  {
   "cell_type": "code",
   "execution_count": null,
   "id": "6e681a8e-91c2-4b0e-abaf-2a11f39ff27f",
   "metadata": {},
   "outputs": [],
   "source": [
    "class Net(nn.Module):\n",
    "    def __init__(self):\n",
    "        super().__init__()\n",
    "        self.rnn = nn.LSTM(input_size=28, hidden_size=64, batch_first=True)\n",
    "        self.norm = trident.InstanceNorm1d(64)\n",
    "        self.dropout1 = trident.Dropout(0.25)\n",
    "        self.dropout2 = trident.Dropout(0.5)\n",
    "        self.fc1 = nn.Linear(64, 32)\n",
    "        self.fc2 = nn.Linear(32, 10)\n",
    "\n",
    "    def forward(self, input):\n",
    "        # Shape of input is (batch_size,1, 28, 28)\n",
    "        # converting shape of input to (batch_size, 28, 28)\n",
    "        # as required by RNN when batch_first is set True\n",
    "        input = input.reshape(-1, 28, 28)\n",
    "        output, hidden = self.rnn(input)\n",
    "\n",
    "        # RNN output shape is (seq_len, batch, input_size)\n",
    "        # Get last output of RNN\n",
    "        output = output[:, -1, :]\n",
    "        output = self.norm(output)\n",
    "        output = self.dropout1(output)\n",
    "        output = self.fc1(output)\n",
    "        output = trident.function.relu(output)\n",
    "        output = self.dropout2(output)\n",
    "        output = self.fc2(output)\n",
    "        output = trident.function.softmax(output, dim=1)\n",
    "        return output\n",
    "\n",
    "\n",
    "model = Net().to(\"cuda\")\n",
    "input = torch.randn(2000, 1, 28, 28).to(\"cuda\")\n",
    "\n",
    "print(model(input))"
   ]
  },
  {
   "cell_type": "markdown",
   "source": [
    "See how easy it is? Enjoy Trident!"
   ],
   "metadata": {
    "collapsed": false
   },
   "id": "7f65a657-182b-4790-aa97-5f74cdeb9c57"
  }
 ],
 "metadata": {
  "kernelspec": {
   "display_name": "Python 3 (ipykernel)",
   "language": "python",
   "name": "python3"
  },
  "language_info": {
   "codemirror_mode": {
    "name": "ipython",
    "version": 3
   },
   "file_extension": ".py",
   "mimetype": "text/x-python",
   "name": "python",
   "nbconvert_exporter": "python",
   "pygments_lexer": "ipython3",
   "version": "3.10.6"
  }
 },
 "nbformat": 4,
 "nbformat_minor": 5
}
